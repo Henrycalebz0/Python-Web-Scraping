{
 "cells": [
  {
   "cell_type": "code",
   "execution_count": 78,
   "id": "505d6776-04a7-4315-a0fc-eb23908ed83a",
   "metadata": {},
   "outputs": [],
   "source": [
    "from bs4 import BeautifulSoup\n",
    "import requests\n",
    "import pandas as pd"
   ]
  },
  {
   "cell_type": "code",
   "execution_count": 79,
   "id": "6a589136-8f3f-4098-b68a-c21752ffb8b1",
   "metadata": {},
   "outputs": [],
   "source": [
    "#logging the url address\n",
    "\n",
    "url = 'https://quotes.toscrape.com/'\n",
    "\n",
    "response =  requests.get(url)"
   ]
  },
  {
   "cell_type": "code",
   "execution_count": 80,
   "id": "9d84bf94-c309-4309-a49a-6ae94ace88a5",
   "metadata": {},
   "outputs": [],
   "source": [
    "soup = BeautifulSoup(response.text, 'html')"
   ]
  },
  {
   "cell_type": "code",
   "execution_count": 81,
   "id": "14654b1f-065d-41a7-afdd-f9c5ae203472",
   "metadata": {},
   "outputs": [],
   "source": [
    "quoteList = soup.find('div')"
   ]
  },
  {
   "cell_type": "code",
   "execution_count": 82,
   "id": "b37445eb-98fc-4bbb-96be-42a40f0aa64e",
   "metadata": {},
   "outputs": [],
   "source": [
    "quote = quoteList.find_all('div', class_ = 'quote')"
   ]
  },
  {
   "cell_type": "code",
   "execution_count": 83,
   "id": "4bc7fe07-c40c-456c-b898-bf3ae37089e2",
   "metadata": {},
   "outputs": [],
   "source": [
    "headers = ['Quote', 'Author']"
   ]
  },
  {
   "cell_type": "code",
   "execution_count": 84,
   "id": "e48a7880-88a9-4532-b440-5a5519c9a29b",
   "metadata": {},
   "outputs": [],
   "source": [
    "df = pd.DataFrame(columns=headers)"
   ]
  },
  {
   "cell_type": "code",
   "execution_count": 85,
   "id": "01e92484-deff-4d43-ba6f-3fd3a7f86a20",
   "metadata": {},
   "outputs": [],
   "source": [
    "for row in quote:\n",
    "    individual_row_data = [quote.text.strip() for quote in row if quote.text.strip()]\n",
    "    cleaned_individual_row_data = [line.strip() for item in individual_row_data for line in item.split('\\n') if line.strip()]\n",
    "    final_cleaned = [item.replace('\\n(about)', '') for item in cleaned_individual_row_data]\n",
    "    final_cleaned = [item.replace('by', '') for item in cleaned_individual_row_data]\n",
    "    #print(final_cleaned[0:2])\n",
    "    length = len(df)\n",
    "    df.loc[length] = final_cleaned[0:2]"
   ]
  },
  {
   "cell_type": "code",
   "execution_count": 86,
   "id": "0f568757-af9f-41e8-b55c-c02e1d4e8a48",
   "metadata": {},
   "outputs": [
    {
     "data": {
      "text/html": [
       "<div>\n",
       "<style scoped>\n",
       "    .dataframe tbody tr th:only-of-type {\n",
       "        vertical-align: middle;\n",
       "    }\n",
       "\n",
       "    .dataframe tbody tr th {\n",
       "        vertical-align: top;\n",
       "    }\n",
       "\n",
       "    .dataframe thead th {\n",
       "        text-align: right;\n",
       "    }\n",
       "</style>\n",
       "<table border=\"1\" class=\"dataframe\">\n",
       "  <thead>\n",
       "    <tr style=\"text-align: right;\">\n",
       "      <th></th>\n",
       "      <th>Quote</th>\n",
       "      <th>Author</th>\n",
       "    </tr>\n",
       "  </thead>\n",
       "  <tbody>\n",
       "    <tr>\n",
       "      <th>0</th>\n",
       "      <td>“The world as we have created it is a process ...</td>\n",
       "      <td>Albert Einstein</td>\n",
       "    </tr>\n",
       "    <tr>\n",
       "      <th>1</th>\n",
       "      <td>“It is our choices, Harry, that show what we t...</td>\n",
       "      <td>J.K. Rowling</td>\n",
       "    </tr>\n",
       "    <tr>\n",
       "      <th>2</th>\n",
       "      <td>“There are only two ways to live your life. On...</td>\n",
       "      <td>Albert Einstein</td>\n",
       "    </tr>\n",
       "    <tr>\n",
       "      <th>3</th>\n",
       "      <td>“The person, be it gentleman or lady, who has ...</td>\n",
       "      <td>Jane Austen</td>\n",
       "    </tr>\n",
       "    <tr>\n",
       "      <th>4</th>\n",
       "      <td>“Imperfection is beauty, madness is genius and...</td>\n",
       "      <td>Marilyn Monroe</td>\n",
       "    </tr>\n",
       "    <tr>\n",
       "      <th>5</th>\n",
       "      <td>“Try not to become a man of success. Rather be...</td>\n",
       "      <td>Albert Einstein</td>\n",
       "    </tr>\n",
       "    <tr>\n",
       "      <th>6</th>\n",
       "      <td>“It is better to be hated for what you are tha...</td>\n",
       "      <td>André Gide</td>\n",
       "    </tr>\n",
       "    <tr>\n",
       "      <th>7</th>\n",
       "      <td>“I have not failed. I've just found 10,000 way...</td>\n",
       "      <td>Thomas A. Edison</td>\n",
       "    </tr>\n",
       "    <tr>\n",
       "      <th>8</th>\n",
       "      <td>“A woman is like a tea bag; you never know how...</td>\n",
       "      <td>Eleanor Roosevelt</td>\n",
       "    </tr>\n",
       "    <tr>\n",
       "      <th>9</th>\n",
       "      <td>“A day without sunshine is like, you know, nig...</td>\n",
       "      <td>Steve Martin</td>\n",
       "    </tr>\n",
       "  </tbody>\n",
       "</table>\n",
       "</div>"
      ],
      "text/plain": [
       "                                               Quote              Author\n",
       "0  “The world as we have created it is a process ...     Albert Einstein\n",
       "1  “It is our choices, Harry, that show what we t...        J.K. Rowling\n",
       "2  “There are only two ways to live your life. On...     Albert Einstein\n",
       "3  “The person, be it gentleman or lady, who has ...         Jane Austen\n",
       "4  “Imperfection is beauty, madness is genius and...      Marilyn Monroe\n",
       "5  “Try not to become a man of success. Rather be...     Albert Einstein\n",
       "6  “It is better to be hated for what you are tha...          André Gide\n",
       "7  “I have not failed. I've just found 10,000 way...    Thomas A. Edison\n",
       "8  “A woman is like a tea bag; you never know how...   Eleanor Roosevelt\n",
       "9  “A day without sunshine is like, you know, nig...        Steve Martin"
      ]
     },
     "execution_count": 86,
     "metadata": {},
     "output_type": "execute_result"
    }
   ],
   "source": [
    "df"
   ]
  },
  {
   "cell_type": "code",
   "execution_count": null,
   "id": "6a7895d3-7a67-480a-ba73-ddf464463e9b",
   "metadata": {},
   "outputs": [],
   "source": []
  }
 ],
 "metadata": {
  "kernelspec": {
   "display_name": "Python 3 (ipykernel)",
   "language": "python",
   "name": "python3"
  },
  "language_info": {
   "codemirror_mode": {
    "name": "ipython",
    "version": 3
   },
   "file_extension": ".py",
   "mimetype": "text/x-python",
   "name": "python",
   "nbconvert_exporter": "python",
   "pygments_lexer": "ipython3",
   "version": "3.12.7"
  }
 },
 "nbformat": 4,
 "nbformat_minor": 5
}
