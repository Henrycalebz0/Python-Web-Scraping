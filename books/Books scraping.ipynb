{
 "cells": [
  {
   "cell_type": "code",
   "execution_count": 69,
   "id": "fea0d61d-1562-4227-9d68-360d744b6409",
   "metadata": {},
   "outputs": [],
   "source": [
    "from bs4 import BeautifulSoup\n",
    "import requests\n",
    "import pandas as pd"
   ]
  },
  {
   "cell_type": "code",
   "execution_count": 70,
   "id": "a91d0836-d36c-4410-a0ba-8efbb4ab9af7",
   "metadata": {},
   "outputs": [],
   "source": [
    "#logging the url address\n",
    "\n",
    "url = 'https://books.toscrape.com/'\n",
    "\n",
    "response =  requests.get(url)"
   ]
  },
  {
   "cell_type": "code",
   "execution_count": 71,
   "id": "6aae071d-3a4b-4417-b2de-5a559d2cfca5",
   "metadata": {},
   "outputs": [],
   "source": [
    "soup =  BeautifulSoup(response.text, 'html')"
   ]
  },
  {
   "cell_type": "code",
   "execution_count": 72,
   "id": "f771e173-f80b-47b4-b6a1-261821fca2e6",
   "metadata": {},
   "outputs": [],
   "source": [
    "products = soup.find('ol', class_ = 'row')"
   ]
  },
  {
   "cell_type": "code",
   "execution_count": 73,
   "id": "b0eae252-d5fa-4bfb-ae1d-d95a25ac719f",
   "metadata": {},
   "outputs": [],
   "source": [
    "books =  products.find_all('li')"
   ]
  },
  {
   "cell_type": "code",
   "execution_count": 74,
   "id": "ccd9ad6d-0a82-4768-95f5-45d4f578600f",
   "metadata": {},
   "outputs": [],
   "source": [
    "headers = ['Name', 'Price', 'Availability']\n",
    "\n",
    "df = pd.DataFrame(columns=headers)"
   ]
  },
  {
   "cell_type": "code",
   "execution_count": 75,
   "id": "f34298c2-102f-4d0b-bdaf-76e4ded01b13",
   "metadata": {},
   "outputs": [
    {
     "data": {
      "text/html": [
       "<div>\n",
       "<style scoped>\n",
       "    .dataframe tbody tr th:only-of-type {\n",
       "        vertical-align: middle;\n",
       "    }\n",
       "\n",
       "    .dataframe tbody tr th {\n",
       "        vertical-align: top;\n",
       "    }\n",
       "\n",
       "    .dataframe thead th {\n",
       "        text-align: right;\n",
       "    }\n",
       "</style>\n",
       "<table border=\"1\" class=\"dataframe\">\n",
       "  <thead>\n",
       "    <tr style=\"text-align: right;\">\n",
       "      <th></th>\n",
       "      <th>Name</th>\n",
       "      <th>Price</th>\n",
       "      <th>Availability</th>\n",
       "    </tr>\n",
       "  </thead>\n",
       "  <tbody>\n",
       "  </tbody>\n",
       "</table>\n",
       "</div>"
      ],
      "text/plain": [
       "Empty DataFrame\n",
       "Columns: [Name, Price, Availability]\n",
       "Index: []"
      ]
     },
     "execution_count": 75,
     "metadata": {},
     "output_type": "execute_result"
    }
   ],
   "source": [
    "df"
   ]
  },
  {
   "cell_type": "code",
   "execution_count": 76,
   "id": "f8fffad1-4037-492b-9051-74bdcd24864d",
   "metadata": {},
   "outputs": [],
   "source": [
    "article = products.find_all('article')"
   ]
  },
  {
   "cell_type": "code",
   "execution_count": 77,
   "id": "f0bd2bd7-839d-4dd7-b64e-7451f3776caa",
   "metadata": {},
   "outputs": [],
   "source": [
    "for row in article:\n",
    "    individual_row_data = [datatitle.text.strip() for datatitle in row if datatitle.text.strip()]\n",
    "    item = [line.strip() for item in individual_row_data for line in item.split('\\n') if line.strip()]\n",
    "    cleaned_individual_row_data= [item.replace('Â£', '$') if 'Â£' in item else item for item in item]\n",
    "    length = len(df)\n",
    "    df.loc[length] = cleaned_individual_row_data[:3]"
   ]
  },
  {
   "cell_type": "code",
   "execution_count": 78,
   "id": "61791ac4-1b07-4109-80eb-e2583e66e559",
   "metadata": {},
   "outputs": [
    {
     "data": {
      "text/html": [
       "<div>\n",
       "<style scoped>\n",
       "    .dataframe tbody tr th:only-of-type {\n",
       "        vertical-align: middle;\n",
       "    }\n",
       "\n",
       "    .dataframe tbody tr th {\n",
       "        vertical-align: top;\n",
       "    }\n",
       "\n",
       "    .dataframe thead th {\n",
       "        text-align: right;\n",
       "    }\n",
       "</style>\n",
       "<table border=\"1\" class=\"dataframe\">\n",
       "  <thead>\n",
       "    <tr style=\"text-align: right;\">\n",
       "      <th></th>\n",
       "      <th>Name</th>\n",
       "      <th>Price</th>\n",
       "      <th>Availability</th>\n",
       "    </tr>\n",
       "  </thead>\n",
       "  <tbody>\n",
       "    <tr>\n",
       "      <th>0</th>\n",
       "      <td>A Light in the ...</td>\n",
       "      <td>$51.77</td>\n",
       "      <td>In stock</td>\n",
       "    </tr>\n",
       "    <tr>\n",
       "      <th>1</th>\n",
       "      <td>Tipping the Velvet</td>\n",
       "      <td>$53.74</td>\n",
       "      <td>In stock</td>\n",
       "    </tr>\n",
       "    <tr>\n",
       "      <th>2</th>\n",
       "      <td>Soumission</td>\n",
       "      <td>$50.10</td>\n",
       "      <td>In stock</td>\n",
       "    </tr>\n",
       "    <tr>\n",
       "      <th>3</th>\n",
       "      <td>Sharp Objects</td>\n",
       "      <td>$47.82</td>\n",
       "      <td>In stock</td>\n",
       "    </tr>\n",
       "    <tr>\n",
       "      <th>4</th>\n",
       "      <td>Sapiens: A Brief History ...</td>\n",
       "      <td>$54.23</td>\n",
       "      <td>In stock</td>\n",
       "    </tr>\n",
       "    <tr>\n",
       "      <th>5</th>\n",
       "      <td>The Requiem Red</td>\n",
       "      <td>$22.65</td>\n",
       "      <td>In stock</td>\n",
       "    </tr>\n",
       "    <tr>\n",
       "      <th>6</th>\n",
       "      <td>The Dirty Little Secrets ...</td>\n",
       "      <td>$33.34</td>\n",
       "      <td>In stock</td>\n",
       "    </tr>\n",
       "    <tr>\n",
       "      <th>7</th>\n",
       "      <td>The Coming Woman: A ...</td>\n",
       "      <td>$17.93</td>\n",
       "      <td>In stock</td>\n",
       "    </tr>\n",
       "    <tr>\n",
       "      <th>8</th>\n",
       "      <td>The Boys in the ...</td>\n",
       "      <td>$22.60</td>\n",
       "      <td>In stock</td>\n",
       "    </tr>\n",
       "    <tr>\n",
       "      <th>9</th>\n",
       "      <td>The Black Maria</td>\n",
       "      <td>$52.15</td>\n",
       "      <td>In stock</td>\n",
       "    </tr>\n",
       "    <tr>\n",
       "      <th>10</th>\n",
       "      <td>Starving Hearts (Triangular Trade ...</td>\n",
       "      <td>$13.99</td>\n",
       "      <td>In stock</td>\n",
       "    </tr>\n",
       "    <tr>\n",
       "      <th>11</th>\n",
       "      <td>Shakespeare's Sonnets</td>\n",
       "      <td>$20.66</td>\n",
       "      <td>In stock</td>\n",
       "    </tr>\n",
       "    <tr>\n",
       "      <th>12</th>\n",
       "      <td>Set Me Free</td>\n",
       "      <td>$17.46</td>\n",
       "      <td>In stock</td>\n",
       "    </tr>\n",
       "    <tr>\n",
       "      <th>13</th>\n",
       "      <td>Scott Pilgrim's Precious Little ...</td>\n",
       "      <td>$52.29</td>\n",
       "      <td>In stock</td>\n",
       "    </tr>\n",
       "    <tr>\n",
       "      <th>14</th>\n",
       "      <td>Rip it Up and ...</td>\n",
       "      <td>$35.02</td>\n",
       "      <td>In stock</td>\n",
       "    </tr>\n",
       "    <tr>\n",
       "      <th>15</th>\n",
       "      <td>Our Band Could Be ...</td>\n",
       "      <td>$57.25</td>\n",
       "      <td>In stock</td>\n",
       "    </tr>\n",
       "    <tr>\n",
       "      <th>16</th>\n",
       "      <td>Olio</td>\n",
       "      <td>$23.88</td>\n",
       "      <td>In stock</td>\n",
       "    </tr>\n",
       "    <tr>\n",
       "      <th>17</th>\n",
       "      <td>Mesaerion: The Best Science ...</td>\n",
       "      <td>$37.59</td>\n",
       "      <td>In stock</td>\n",
       "    </tr>\n",
       "    <tr>\n",
       "      <th>18</th>\n",
       "      <td>Libertarianism for Beginners</td>\n",
       "      <td>$51.33</td>\n",
       "      <td>In stock</td>\n",
       "    </tr>\n",
       "    <tr>\n",
       "      <th>19</th>\n",
       "      <td>It's Only the Himalayas</td>\n",
       "      <td>$45.17</td>\n",
       "      <td>In stock</td>\n",
       "    </tr>\n",
       "  </tbody>\n",
       "</table>\n",
       "</div>"
      ],
      "text/plain": [
       "                                     Name   Price Availability\n",
       "0                      A Light in the ...  $51.77     In stock\n",
       "1                      Tipping the Velvet  $53.74     In stock\n",
       "2                              Soumission  $50.10     In stock\n",
       "3                           Sharp Objects  $47.82     In stock\n",
       "4            Sapiens: A Brief History ...  $54.23     In stock\n",
       "5                         The Requiem Red  $22.65     In stock\n",
       "6            The Dirty Little Secrets ...  $33.34     In stock\n",
       "7                 The Coming Woman: A ...  $17.93     In stock\n",
       "8                     The Boys in the ...  $22.60     In stock\n",
       "9                         The Black Maria  $52.15     In stock\n",
       "10  Starving Hearts (Triangular Trade ...  $13.99     In stock\n",
       "11                  Shakespeare's Sonnets  $20.66     In stock\n",
       "12                            Set Me Free  $17.46     In stock\n",
       "13    Scott Pilgrim's Precious Little ...  $52.29     In stock\n",
       "14                      Rip it Up and ...  $35.02     In stock\n",
       "15                  Our Band Could Be ...  $57.25     In stock\n",
       "16                                   Olio  $23.88     In stock\n",
       "17        Mesaerion: The Best Science ...  $37.59     In stock\n",
       "18           Libertarianism for Beginners  $51.33     In stock\n",
       "19                It's Only the Himalayas  $45.17     In stock"
      ]
     },
     "execution_count": 78,
     "metadata": {},
     "output_type": "execute_result"
    }
   ],
   "source": [
    "df"
   ]
  },
  {
   "cell_type": "code",
   "execution_count": 79,
   "id": "693e6270-b14f-46e4-af95-f1b87daa021b",
   "metadata": {},
   "outputs": [],
   "source": [
    "df.to_csv('books.csv', index=False)"
   ]
  },
  {
   "cell_type": "code",
   "execution_count": null,
   "id": "7ccb1768-8599-488a-b9ac-29ea9f7f7bdf",
   "metadata": {},
   "outputs": [],
   "source": []
  }
 ],
 "metadata": {
  "kernelspec": {
   "display_name": "Python 3 (ipykernel)",
   "language": "python",
   "name": "python3"
  },
  "language_info": {
   "codemirror_mode": {
    "name": "ipython",
    "version": 3
   },
   "file_extension": ".py",
   "mimetype": "text/x-python",
   "name": "python",
   "nbconvert_exporter": "python",
   "pygments_lexer": "ipython3",
   "version": "3.12.7"
  }
 },
 "nbformat": 4,
 "nbformat_minor": 5
}
